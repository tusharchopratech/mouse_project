{
 "cells": [
  {
   "cell_type": "code",
   "execution_count": 1,
   "metadata": {},
   "outputs": [],
   "source": [
    "import pandas as pd\n",
    "import numpy as np\n",
    "from scipy.signal import butter, lfilter, lfilter_zi, filtfilt\n",
    "import matplotlib.pyplot as plt\n"
   ]
  },
  {
   "cell_type": "code",
   "execution_count": 2,
   "metadata": {},
   "outputs": [],
   "source": [
    "def butter_bandpass(lowcut, highcut, fs, order=4):\n",
    "    nyq = 0.5 * fs\n",
    "    low = lowcut / nyq\n",
    "    high = highcut / nyq\n",
    "    b, a = butter(order, [low, high], btype='band')\n",
    "    return b, a\n",
    "\n",
    "def butter_bandpass_filter(data, lowcut, highcut, fs, order=4):\n",
    "    b, a = butter_bandpass(lowcut, highcut, fs, order=order)\n",
    "    y = lfilter(b, a, data)\n",
    "    return y"
   ]
  },
  {
   "cell_type": "code",
   "execution_count": 3,
   "metadata": {},
   "outputs": [],
   "source": [
    "df = pd.read_csv('data_train.txt', sep=\" \", header=None)"
   ]
  },
  {
   "cell_type": "code",
   "execution_count": 4,
   "metadata": {},
   "outputs": [
    {
     "data": {
      "text/plain": [
       "(63260, 7)"
      ]
     },
     "execution_count": 4,
     "metadata": {},
     "output_type": "execute_result"
    }
   ],
   "source": [
    "df.shape"
   ]
  },
  {
   "cell_type": "code",
   "execution_count": 5,
   "metadata": {},
   "outputs": [],
   "source": [
    "# Process Data Functions\n",
    "def realTimeFilterInfo(lowcut, highcut, fs, order=5):\n",
    "    nyq = 0.5 * fs\n",
    "    low = lowcut / nyq\n",
    "    high = highcut / nyq\n",
    "    b, a = butter(order, [low, high], btype='band')\n",
    "    z = lfilter_zi(b, a)\n",
    "    return b, z, a\n",
    "\n",
    "def realTimeFilter(val, b, z, a):\n",
    "    result, z1 = lfilter(b, a, [val], zi=z)\n",
    "    return result, z1"
   ]
  },
  {
   "cell_type": "code",
   "execution_count": 11,
   "metadata": {},
   "outputs": [
    {
     "name": "stdout",
     "output_type": "stream",
     "text": [
      "Actual Data Shape (63260, 4)\n",
      "Raw Data Shape (63258, 4)\n",
      "[ 0.091604   0.148663   0.189932   0.217133   0.203845   0.171642\n",
      "  0.141003   0.118805  -0.0842615 -0.0354881]\n",
      "\n",
      "\n",
      "\n",
      "[ 9.41027038e-07  8.48703394e-06  3.53495912e-05  8.81763072e-05\n",
      "  1.36518013e-04  9.57803147e-05 -1.30283520e-04 -5.42931715e-04\n",
      " -9.49065859e-04 -9.84351635e-04]\n",
      "\n",
      "\n",
      "\n",
      "[-9.3317453e-06]\n",
      "[-7.77633462e-05]\n",
      "[-0.00029219]\n",
      "[-0.00062847]\n",
      "[-0.00073571]\n",
      "[-2.50954252e-06]\n",
      "[0.00187767]\n",
      "[0.00418612]\n",
      "[0.00505868]\n",
      "[0.00246678]\n"
     ]
    }
   ],
   "source": [
    "print(\"Actual Data Shape\",df.values[:,:4].shape)\n",
    "rawData = df.values[2:,:4]\n",
    "print(\"Raw Data Shape\",rawData.shape)\n",
    "\n",
    "yo = rawData[:10,0]\n",
    "print(yo)\n",
    "\n",
    "print(\"\\n\\n\")\n",
    "filtered=butter_bandpass_filter(yo, 180,250,2048,5)\n",
    "print(filtered)\n",
    "\n",
    "print(\"\\n\\n\")\n",
    "b,z,a = realTimeFilterInfo(180,250,2048,order=5)\n",
    "\n",
    "for val in yo:\n",
    "    result,z = realTimeFilter(val,b,z,a)\n",
    "    print(result)"
   ]
  },
  {
   "cell_type": "code",
   "execution_count": null,
   "metadata": {},
   "outputs": [],
   "source": []
  }
 ],
 "metadata": {
  "kernelspec": {
   "display_name": "Python 3",
   "language": "python",
   "name": "python3"
  },
  "language_info": {
   "codemirror_mode": {
    "name": "ipython",
    "version": 3
   },
   "file_extension": ".py",
   "mimetype": "text/x-python",
   "name": "python",
   "nbconvert_exporter": "python",
   "pygments_lexer": "ipython3",
   "version": "3.7.4"
  }
 },
 "nbformat": 4,
 "nbformat_minor": 2
}
